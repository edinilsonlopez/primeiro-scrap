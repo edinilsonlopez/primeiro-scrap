{
 "cells": [
  {
   "cell_type": "code",
   "execution_count": 7,
   "metadata": {},
   "outputs": [],
   "source": [
    "import pandas as pd"
   ]
  },
  {
   "cell_type": "code",
   "execution_count": 8,
   "metadata": {},
   "outputs": [],
   "source": [
    "path = 'wiki.html'"
   ]
  },
  {
   "cell_type": "code",
   "execution_count": 10,
   "metadata": {},
   "outputs": [
    {
     "data": {
      "text/plain": [
       "[       0                      1\n",
       " 0   1998             100 Movies\n",
       " 1   1999              100 Stars\n",
       " 2   2000             100 Laughs\n",
       " 3   2001            100 Thrills\n",
       " 4   2002           100 Passions\n",
       " 5   2003  100 Heroes & Villains\n",
       " 6   2004              100 Songs\n",
       " 7   2005       100 Movie Quotes\n",
       " 8   2005              25 Scores\n",
       " 9   2006             100 Cheers\n",
       " 10  2006            25 Musicals\n",
       " 11  2007   100 Movies (Updated)\n",
       " 12  2008        AFI's 10 Top 10\n",
       " 13   vte                    vte,\n",
       "                       Film  Release year              Director  \\\n",
       " 0             Citizen Kane          1941          Orson Welles   \n",
       " 1               Casablanca          1942        Michael Curtiz   \n",
       " 2            The Godfather          1972  Francis Ford Coppola   \n",
       " 3       Gone with the Wind          1939        Victor Fleming   \n",
       " 4       Lawrence of Arabia          1962            David Lean   \n",
       " ..                     ...           ...                   ...   \n",
       " 118        Sophie's Choice          1982        Alan J. Pakula   \n",
       " 119  The Last Picture Show          1971     Peter Bogdanovich   \n",
       " 120     Do the Right Thing          1989             Spike Lee   \n",
       " 121           Blade Runner          1982          Ridley Scott   \n",
       " 122              Toy Story          1995         John Lasseter   \n",
       " \n",
       "                               Production companies 1998 Rank 2007 Rank  \n",
       " 0                               RKO Radio Pictures         1         1  \n",
       " 1                            Warner Bros. Pictures         2         3  \n",
       " 2           Paramount Pictures, Alfran Productions         3         2  \n",
       " 3                  Selznick International Pictures         4         6  \n",
       " 4                                 Horizon Pictures         5         7  \n",
       " ..                                             ...       ...       ...  \n",
       " 118                              ITC Entertainment         -        91  \n",
       " 119                                BBS Productions         -        95  \n",
       " 120                  40 Acres and a Mule Filmworks         -        96  \n",
       " 121                The Ladd Company, Shaw Brothers         -        97  \n",
       " 122  Walt Disney Pictures, Pixar Animation Studios         -        99  \n",
       " \n",
       " [123 rows x 6 columns]]"
      ]
     },
     "execution_count": 10,
     "metadata": {},
     "output_type": "execute_result"
    }
   ],
   "source": [
    "html_raw = pd.read_html(path)\n",
    "#html_raw"
   ]
  },
  {
   "cell_type": "code",
   "execution_count": 11,
   "metadata": {},
   "outputs": [
    {
     "data": {
      "text/plain": [
       "2"
      ]
     },
     "execution_count": 11,
     "metadata": {},
     "output_type": "execute_result"
    }
   ],
   "source": [
    "len(html_raw) # 2 a leitura de html do pandas lê somente as tabelas"
   ]
  },
  {
   "cell_type": "code",
   "execution_count": 12,
   "metadata": {},
   "outputs": [],
   "source": [
    "top_movies = html_raw[1]"
   ]
  },
  {
   "cell_type": "code",
   "execution_count": 13,
   "metadata": {},
   "outputs": [
    {
     "data": {
      "text/html": [
       "<div>\n",
       "<style scoped>\n",
       "    .dataframe tbody tr th:only-of-type {\n",
       "        vertical-align: middle;\n",
       "    }\n",
       "\n",
       "    .dataframe tbody tr th {\n",
       "        vertical-align: top;\n",
       "    }\n",
       "\n",
       "    .dataframe thead th {\n",
       "        text-align: right;\n",
       "    }\n",
       "</style>\n",
       "<table border=\"1\" class=\"dataframe\">\n",
       "  <thead>\n",
       "    <tr style=\"text-align: right;\">\n",
       "      <th></th>\n",
       "      <th>Film</th>\n",
       "      <th>Release year</th>\n",
       "      <th>Director</th>\n",
       "      <th>Production companies</th>\n",
       "      <th>1998 Rank</th>\n",
       "      <th>2007 Rank</th>\n",
       "    </tr>\n",
       "  </thead>\n",
       "  <tbody>\n",
       "    <tr>\n",
       "      <th>0</th>\n",
       "      <td>Citizen Kane</td>\n",
       "      <td>1941</td>\n",
       "      <td>Orson Welles</td>\n",
       "      <td>RKO Radio Pictures</td>\n",
       "      <td>1</td>\n",
       "      <td>1</td>\n",
       "    </tr>\n",
       "    <tr>\n",
       "      <th>1</th>\n",
       "      <td>Casablanca</td>\n",
       "      <td>1942</td>\n",
       "      <td>Michael Curtiz</td>\n",
       "      <td>Warner Bros. Pictures</td>\n",
       "      <td>2</td>\n",
       "      <td>3</td>\n",
       "    </tr>\n",
       "    <tr>\n",
       "      <th>2</th>\n",
       "      <td>The Godfather</td>\n",
       "      <td>1972</td>\n",
       "      <td>Francis Ford Coppola</td>\n",
       "      <td>Paramount Pictures, Alfran Productions</td>\n",
       "      <td>3</td>\n",
       "      <td>2</td>\n",
       "    </tr>\n",
       "    <tr>\n",
       "      <th>3</th>\n",
       "      <td>Gone with the Wind</td>\n",
       "      <td>1939</td>\n",
       "      <td>Victor Fleming</td>\n",
       "      <td>Selznick International Pictures</td>\n",
       "      <td>4</td>\n",
       "      <td>6</td>\n",
       "    </tr>\n",
       "    <tr>\n",
       "      <th>4</th>\n",
       "      <td>Lawrence of Arabia</td>\n",
       "      <td>1962</td>\n",
       "      <td>David Lean</td>\n",
       "      <td>Horizon Pictures</td>\n",
       "      <td>5</td>\n",
       "      <td>7</td>\n",
       "    </tr>\n",
       "    <tr>\n",
       "      <th>...</th>\n",
       "      <td>...</td>\n",
       "      <td>...</td>\n",
       "      <td>...</td>\n",
       "      <td>...</td>\n",
       "      <td>...</td>\n",
       "      <td>...</td>\n",
       "    </tr>\n",
       "    <tr>\n",
       "      <th>118</th>\n",
       "      <td>Sophie's Choice</td>\n",
       "      <td>1982</td>\n",
       "      <td>Alan J. Pakula</td>\n",
       "      <td>ITC Entertainment</td>\n",
       "      <td>-</td>\n",
       "      <td>91</td>\n",
       "    </tr>\n",
       "    <tr>\n",
       "      <th>119</th>\n",
       "      <td>The Last Picture Show</td>\n",
       "      <td>1971</td>\n",
       "      <td>Peter Bogdanovich</td>\n",
       "      <td>BBS Productions</td>\n",
       "      <td>-</td>\n",
       "      <td>95</td>\n",
       "    </tr>\n",
       "    <tr>\n",
       "      <th>120</th>\n",
       "      <td>Do the Right Thing</td>\n",
       "      <td>1989</td>\n",
       "      <td>Spike Lee</td>\n",
       "      <td>40 Acres and a Mule Filmworks</td>\n",
       "      <td>-</td>\n",
       "      <td>96</td>\n",
       "    </tr>\n",
       "    <tr>\n",
       "      <th>121</th>\n",
       "      <td>Blade Runner</td>\n",
       "      <td>1982</td>\n",
       "      <td>Ridley Scott</td>\n",
       "      <td>The Ladd Company, Shaw Brothers</td>\n",
       "      <td>-</td>\n",
       "      <td>97</td>\n",
       "    </tr>\n",
       "    <tr>\n",
       "      <th>122</th>\n",
       "      <td>Toy Story</td>\n",
       "      <td>1995</td>\n",
       "      <td>John Lasseter</td>\n",
       "      <td>Walt Disney Pictures, Pixar Animation Studios</td>\n",
       "      <td>-</td>\n",
       "      <td>99</td>\n",
       "    </tr>\n",
       "  </tbody>\n",
       "</table>\n",
       "<p>123 rows × 6 columns</p>\n",
       "</div>"
      ],
      "text/plain": [
       "                      Film  Release year              Director  \\\n",
       "0             Citizen Kane          1941          Orson Welles   \n",
       "1               Casablanca          1942        Michael Curtiz   \n",
       "2            The Godfather          1972  Francis Ford Coppola   \n",
       "3       Gone with the Wind          1939        Victor Fleming   \n",
       "4       Lawrence of Arabia          1962            David Lean   \n",
       "..                     ...           ...                   ...   \n",
       "118        Sophie's Choice          1982        Alan J. Pakula   \n",
       "119  The Last Picture Show          1971     Peter Bogdanovich   \n",
       "120     Do the Right Thing          1989             Spike Lee   \n",
       "121           Blade Runner          1982          Ridley Scott   \n",
       "122              Toy Story          1995         John Lasseter   \n",
       "\n",
       "                              Production companies 1998 Rank 2007 Rank  \n",
       "0                               RKO Radio Pictures         1         1  \n",
       "1                            Warner Bros. Pictures         2         3  \n",
       "2           Paramount Pictures, Alfran Productions         3         2  \n",
       "3                  Selznick International Pictures         4         6  \n",
       "4                                 Horizon Pictures         5         7  \n",
       "..                                             ...       ...       ...  \n",
       "118                              ITC Entertainment         -        91  \n",
       "119                                BBS Productions         -        95  \n",
       "120                  40 Acres and a Mule Filmworks         -        96  \n",
       "121                The Ladd Company, Shaw Brothers         -        97  \n",
       "122  Walt Disney Pictures, Pixar Animation Studios         -        99  \n",
       "\n",
       "[123 rows x 6 columns]"
      ]
     },
     "execution_count": 13,
     "metadata": {},
     "output_type": "execute_result"
    }
   ],
   "source": [
    "#top_movies"
   ]
  },
  {
   "cell_type": "code",
   "execution_count": 14,
   "metadata": {},
   "outputs": [],
   "source": [
    "top_movies.to_html('top.html')"
   ]
  },
  {
   "cell_type": "code",
   "execution_count": null,
   "metadata": {},
   "outputs": [],
   "source": []
  }
 ],
 "metadata": {
  "kernelspec": {
   "display_name": "3.12.1",
   "language": "python",
   "name": "python3"
  },
  "language_info": {
   "codemirror_mode": {
    "name": "ipython",
    "version": 3
   },
   "file_extension": ".py",
   "mimetype": "text/x-python",
   "name": "python",
   "nbconvert_exporter": "python",
   "pygments_lexer": "ipython3",
   "version": "3.12.1"
  }
 },
 "nbformat": 4,
 "nbformat_minor": 2
}
